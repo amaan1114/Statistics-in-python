{
 "cells": [
  {
   "cell_type": "code",
   "execution_count": 1,
   "id": "16c4bd3a",
   "metadata": {},
   "outputs": [
    {
     "name": "stdout",
     "output_type": "stream",
     "text": [
      "Paired t-test Results:\n",
      "t-statistic: 19.3649\n",
      "p-value: 0.0000\n",
      "Result: Statistically significant difference found.\n",
      "Interpretation: The study program had a significant effect on scores.\n"
     ]
    }
   ],
   "source": [
    "import scipy.stats as stats\n",
    "\n",
    "# Sample datasets: scores before and after the study program\n",
    "scores_before = [68, 75, 80, 72, 65, 78, 74, 70, 69, 73]\n",
    "scores_after  = [74, 79, 85, 78, 70, 84, 78, 75, 73, 78]\n",
    "\n",
    "# Perform paired t-test\n",
    "t_statistic, p_value = stats.ttest_rel(scores_after, scores_before)\n",
    "\n",
    "# Output the results\n",
    "print(\"Paired t-test Results:\")\n",
    "print(f\"t-statistic: {t_statistic:.4f}\")\n",
    "print(f\"p-value: {p_value:.4f}\")\n",
    "\n",
    "# Interpretation\n",
    "alpha = 0.05\n",
    "if p_value < alpha:\n",
    "    print(\"Result: Statistically significant difference found.\")\n",
    "    print(\"Interpretation: The study program had a significant effect on scores.\")\n",
    "else:\n",
    "    print(\"Result: No statistically significant difference found.\")\n",
    "    print(\"Interpretation: The study program did not have a significant effect on scores.\")\n",
    "\n"
   ]
  },
  {
   "cell_type": "code",
   "execution_count": null,
   "id": "e7033b5e",
   "metadata": {},
   "outputs": [],
   "source": []
  }
 ],
 "metadata": {
  "kernelspec": {
   "display_name": "Python 3",
   "language": "python",
   "name": "python3"
  },
  "language_info": {
   "codemirror_mode": {
    "name": "ipython",
    "version": 3
   },
   "file_extension": ".py",
   "mimetype": "text/x-python",
   "name": "python",
   "nbconvert_exporter": "python",
   "pygments_lexer": "ipython3",
   "version": "3.9.0"
  }
 },
 "nbformat": 4,
 "nbformat_minor": 5
}
