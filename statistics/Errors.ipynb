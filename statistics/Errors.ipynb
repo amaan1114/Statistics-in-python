{
 "cells": [
  {
   "cell_type": "code",
   "execution_count": 22,
   "id": "48de3e3b",
   "metadata": {},
   "outputs": [
    {
     "name": "stdout",
     "output_type": "stream",
     "text": [
      "Paired t-test Results:\n",
      "t-statistic: 5.3987\n",
      "p-value: 0.0004\n",
      "Result: No statistically significant difference found.\n",
      "Interpretation: The study program did not have a significant effect on scores.\n",
      "Now this is a type 2 error where we accepted Ho even when it was wrong this is due to very low alpha value\n",
      "\n",
      "\n",
      "\n",
      "Paired t-test 2 Results:\n",
      "t-statistic: 0.6124\n",
      "p-value: 0.5554\n",
      "Result: Statistically significant difference found.\n",
      "Interpretation: The study program had a significant effect on scores.\n",
      "Now here it is a type 1 error where we can see that there is no statistic difference but we are rejecting Ho due to large alpha value\n"
     ]
    }
   ],
   "source": [
    "import scipy.stats as stats\n",
    "\n",
    "# Sample datasets: scores before and after the study program\n",
    "scores_before = [68, 75, 80, 72, 65, 78, 74, 70, 69, 73]\n",
    "scores_after  = [74, 79, 85, 78, 70, 84, 78, 75, 73, 89]\n",
    "\n",
    "# Perform paired t-test\n",
    "t_statistic, p_value = stats.ttest_rel(scores_after, scores_before)\n",
    "\n",
    "# Output the results\n",
    "print(\"Paired t-test Results:\")\n",
    "print(f\"t-statistic: {t_statistic:.4f}\")\n",
    "print(f\"p-value: {p_value:.4f}\")\n",
    "\n",
    "# FOr type 2 error we will decrease alpha\n",
    "alpha = 0.00003\n",
    "if p_value < alpha:\n",
    "    print(\"Result: Statistically significant difference found.\")\n",
    "    print(\"Interpretation: The study program had a significant effect on scores.\")\n",
    "else:\n",
    "    print(\"Result: No statistically significant difference found.\")\n",
    "    print(\"Interpretation: The study program did not have a significant effect on scores.\")\n",
    "\n",
    "print(\"Now this is a type 2 error where we accepted Ho even when it was wrong this is due to very low alpha value\")\n",
    "\n",
    "\n",
    "print(\"\\n\\n\")\n",
    "# Sample datasets: scores before and after the study program for 2nd test\n",
    "scores_before = [70, 72, 68, 75, 74, 71, 69, 73, 72, 70]\n",
    "scores_after  = [71, 73, 67, 76, 73, 72, 68, 72, 73, 71]\n",
    "# Perform paired t-test\n",
    "t_statistic, p_value = stats.ttest_rel(scores_after, scores_before)\n",
    "\n",
    "# Output the results\n",
    "print(\"Paired t-test 2 Results:\")\n",
    "print(f\"t-statistic: {t_statistic:.4f}\")\n",
    "print(f\"p-value: {p_value:.4f}\")\n",
    "\n",
    "# For type 1 error we will increase alpha\n",
    "alpha = 1\n",
    "if p_value < alpha:\n",
    "    print(\"Result: Statistically significant difference found.\")\n",
    "    print(\"Interpretation: The study program had a significant effect on scores.\")\n",
    "else:\n",
    "    print(\"Result: No statistically significant difference found.\")\n",
    "    print(\"Interpretation: The study program did not have a significant effect on scores.\")\n",
    "\n",
    "\n",
    "print(\"Now here it is a type 1 error where we can see that there is no statistic difference but we are rejecting Ho due to large alpha value\")\n",
    "\n",
    "\n",
    "\n"
   ]
  },
  {
   "cell_type": "code",
   "execution_count": null,
   "id": "8474390f",
   "metadata": {},
   "outputs": [],
   "source": []
  },
  {
   "cell_type": "code",
   "execution_count": null,
   "id": "f5259518",
   "metadata": {},
   "outputs": [],
   "source": []
  }
 ],
 "metadata": {
  "kernelspec": {
   "display_name": "Python 3",
   "language": "python",
   "name": "python3"
  },
  "language_info": {
   "codemirror_mode": {
    "name": "ipython",
    "version": 3
   },
   "file_extension": ".py",
   "mimetype": "text/x-python",
   "name": "python",
   "nbconvert_exporter": "python",
   "pygments_lexer": "ipython3",
   "version": "3.9.0"
  }
 },
 "nbformat": 4,
 "nbformat_minor": 5
}
